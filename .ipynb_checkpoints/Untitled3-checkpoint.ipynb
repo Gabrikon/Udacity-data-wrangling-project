{
 "cells": [
  {
   "cell_type": "code",
   "execution_count": 1,
   "id": "c86a917b",
   "metadata": {},
   "outputs": [],
   "source": [
    "import pandas as pd\n",
    "import numpy as np\n",
    "import requests\n",
    "import json"
   ]
  },
  {
   "cell_type": "code",
   "execution_count": 2,
   "id": "8da4c1c8",
   "metadata": {},
   "outputs": [],
   "source": [
    "twitter_archive = pd.read_csv('twitter-archive-enhanced.csv')"
   ]
  },
  {
   "cell_type": "code",
   "execution_count": 4,
   "id": "1b5562a5",
   "metadata": {},
   "outputs": [],
   "source": [
    "url = 'https://d17h27t6h515a5.cloudfront.net/topher/2017/August/599fd2ad_image-predictions/image-predictions.tsv'"
   ]
  },
  {
   "cell_type": "code",
   "execution_count": 5,
   "id": "abe5d4db",
   "metadata": {},
   "outputs": [],
   "source": [
    "image = pd.read_csv(url, sep='\\t')"
   ]
  },
  {
   "cell_type": "code",
   "execution_count": 9,
   "id": "41269455",
   "metadata": {},
   "outputs": [],
   "source": [
    "response = requests.get(url)\n",
    "\n",
    "with open('sundaysession.tsv', 'wb') as file:\n",
    "    file.write(response.content)"
   ]
  },
  {
   "cell_type": "code",
   "execution_count": 10,
   "id": "94ec0428",
   "metadata": {},
   "outputs": [],
   "source": [
    "image_df = pd.read_csv('sundaysession.tsv', sep='\\t')"
   ]
  },
  {
   "cell_type": "code",
   "execution_count": 11,
   "id": "d803c253",
   "metadata": {},
   "outputs": [
    {
     "name": "stdout",
     "output_type": "stream",
     "text": [
      "<class 'pandas.core.frame.DataFrame'>\n",
      "RangeIndex: 2075 entries, 0 to 2074\n",
      "Data columns (total 12 columns):\n",
      " #   Column    Non-Null Count  Dtype  \n",
      "---  ------    --------------  -----  \n",
      " 0   tweet_id  2075 non-null   int64  \n",
      " 1   jpg_url   2075 non-null   object \n",
      " 2   img_num   2075 non-null   int64  \n",
      " 3   p1        2075 non-null   object \n",
      " 4   p1_conf   2075 non-null   float64\n",
      " 5   p1_dog    2075 non-null   bool   \n",
      " 6   p2        2075 non-null   object \n",
      " 7   p2_conf   2075 non-null   float64\n",
      " 8   p2_dog    2075 non-null   bool   \n",
      " 9   p3        2075 non-null   object \n",
      " 10  p3_conf   2075 non-null   float64\n",
      " 11  p3_dog    2075 non-null   bool   \n",
      "dtypes: bool(3), float64(3), int64(2), object(4)\n",
      "memory usage: 152.1+ KB\n"
     ]
    }
   ],
   "source": [
    "image_df.info()"
   ]
  },
  {
   "cell_type": "code",
   "execution_count": 22,
   "id": "b49ad8a6",
   "metadata": {},
   "outputs": [],
   "source": [
    "tweet = []\n",
    "\n",
    "with open('tweet-json.txt', 'r') as file:\n",
    "    for olashile in file:\n",
    "        data = json.loads(olashile) # turn the item to a python dictionary\n",
    "        tweet.append(data)\n",
    "    "
   ]
  },
  {
   "cell_type": "code",
   "execution_count": 33,
   "id": "ad0422a5",
   "metadata": {},
   "outputs": [],
   "source": [
    "tweet_df = pd.DataFrame(tweet, columns = ['id', 'retweet_count', 'favorite_count'])"
   ]
  },
  {
   "cell_type": "code",
   "execution_count": 34,
   "id": "cbdfaca2",
   "metadata": {},
   "outputs": [
    {
     "data": {
      "text/html": [
       "<div>\n",
       "<style scoped>\n",
       "    .dataframe tbody tr th:only-of-type {\n",
       "        vertical-align: middle;\n",
       "    }\n",
       "\n",
       "    .dataframe tbody tr th {\n",
       "        vertical-align: top;\n",
       "    }\n",
       "\n",
       "    .dataframe thead th {\n",
       "        text-align: right;\n",
       "    }\n",
       "</style>\n",
       "<table border=\"1\" class=\"dataframe\">\n",
       "  <thead>\n",
       "    <tr style=\"text-align: right;\">\n",
       "      <th></th>\n",
       "      <th>id</th>\n",
       "      <th>retweet_count</th>\n",
       "      <th>favorite_count</th>\n",
       "    </tr>\n",
       "  </thead>\n",
       "  <tbody>\n",
       "    <tr>\n",
       "      <th>0</th>\n",
       "      <td>892420643555336193</td>\n",
       "      <td>8853</td>\n",
       "      <td>39467</td>\n",
       "    </tr>\n",
       "    <tr>\n",
       "      <th>1</th>\n",
       "      <td>892177421306343426</td>\n",
       "      <td>6514</td>\n",
       "      <td>33819</td>\n",
       "    </tr>\n",
       "    <tr>\n",
       "      <th>2</th>\n",
       "      <td>891815181378084864</td>\n",
       "      <td>4328</td>\n",
       "      <td>25461</td>\n",
       "    </tr>\n",
       "    <tr>\n",
       "      <th>3</th>\n",
       "      <td>891689557279858688</td>\n",
       "      <td>8964</td>\n",
       "      <td>42908</td>\n",
       "    </tr>\n",
       "    <tr>\n",
       "      <th>4</th>\n",
       "      <td>891327558926688256</td>\n",
       "      <td>9774</td>\n",
       "      <td>41048</td>\n",
       "    </tr>\n",
       "    <tr>\n",
       "      <th>...</th>\n",
       "      <td>...</td>\n",
       "      <td>...</td>\n",
       "      <td>...</td>\n",
       "    </tr>\n",
       "    <tr>\n",
       "      <th>2349</th>\n",
       "      <td>666049248165822465</td>\n",
       "      <td>41</td>\n",
       "      <td>111</td>\n",
       "    </tr>\n",
       "    <tr>\n",
       "      <th>2350</th>\n",
       "      <td>666044226329800704</td>\n",
       "      <td>147</td>\n",
       "      <td>311</td>\n",
       "    </tr>\n",
       "    <tr>\n",
       "      <th>2351</th>\n",
       "      <td>666033412701032449</td>\n",
       "      <td>47</td>\n",
       "      <td>128</td>\n",
       "    </tr>\n",
       "    <tr>\n",
       "      <th>2352</th>\n",
       "      <td>666029285002620928</td>\n",
       "      <td>48</td>\n",
       "      <td>132</td>\n",
       "    </tr>\n",
       "    <tr>\n",
       "      <th>2353</th>\n",
       "      <td>666020888022790149</td>\n",
       "      <td>532</td>\n",
       "      <td>2535</td>\n",
       "    </tr>\n",
       "  </tbody>\n",
       "</table>\n",
       "<p>2354 rows × 3 columns</p>\n",
       "</div>"
      ],
      "text/plain": [
       "                      id  retweet_count  favorite_count\n",
       "0     892420643555336193           8853           39467\n",
       "1     892177421306343426           6514           33819\n",
       "2     891815181378084864           4328           25461\n",
       "3     891689557279858688           8964           42908\n",
       "4     891327558926688256           9774           41048\n",
       "...                  ...            ...             ...\n",
       "2349  666049248165822465             41             111\n",
       "2350  666044226329800704            147             311\n",
       "2351  666033412701032449             47             128\n",
       "2352  666029285002620928             48             132\n",
       "2353  666020888022790149            532            2535\n",
       "\n",
       "[2354 rows x 3 columns]"
      ]
     },
     "execution_count": 34,
     "metadata": {},
     "output_type": "execute_result"
    }
   ],
   "source": [
    "tweet_df"
   ]
  },
  {
   "cell_type": "code",
   "execution_count": 31,
   "id": "d94d892f",
   "metadata": {},
   "outputs": [
    {
     "name": "stdout",
     "output_type": "stream",
     "text": [
      "<class 'pandas.core.frame.DataFrame'>\n",
      "RangeIndex: 2356 entries, 0 to 2355\n",
      "Data columns (total 17 columns):\n",
      " #   Column                      Non-Null Count  Dtype  \n",
      "---  ------                      --------------  -----  \n",
      " 0   tweet_id                    2356 non-null   int64  \n",
      " 1   in_reply_to_status_id       78 non-null     float64\n",
      " 2   in_reply_to_user_id         78 non-null     float64\n",
      " 3   timestamp                   2356 non-null   object \n",
      " 4   source                      2356 non-null   object \n",
      " 5   text                        2356 non-null   object \n",
      " 6   retweeted_status_id         181 non-null    float64\n",
      " 7   retweeted_status_user_id    181 non-null    float64\n",
      " 8   retweeted_status_timestamp  181 non-null    object \n",
      " 9   expanded_urls               2297 non-null   object \n",
      " 10  rating_numerator            2356 non-null   int64  \n",
      " 11  rating_denominator          2356 non-null   int64  \n",
      " 12  name                        2356 non-null   object \n",
      " 13  doggo                       2356 non-null   object \n",
      " 14  floofer                     2356 non-null   object \n",
      " 15  pupper                      2356 non-null   object \n",
      " 16  puppo                       2356 non-null   object \n",
      "dtypes: float64(4), int64(3), object(10)\n",
      "memory usage: 313.0+ KB\n"
     ]
    }
   ],
   "source": [
    "twitter_archive.info()"
   ]
  },
  {
   "cell_type": "code",
   "execution_count": 37,
   "id": "7256de3a",
   "metadata": {},
   "outputs": [
    {
     "data": {
      "text/plain": [
       "<a href=\"http://twitter.com/download/iphone\" rel=\"nofollow\">Twitter for iPhone</a>     2221\n",
       "<a href=\"http://vine.co\" rel=\"nofollow\">Vine - Make a Scene</a>                          91\n",
       "<a href=\"http://twitter.com\" rel=\"nofollow\">Twitter Web Client</a>                       33\n",
       "<a href=\"https://about.twitter.com/products/tweetdeck\" rel=\"nofollow\">TweetDeck</a>      11\n",
       "Name: source, dtype: int64"
      ]
     },
     "execution_count": 37,
     "metadata": {},
     "output_type": "execute_result"
    }
   ],
   "source": [
    "twitter_archive['source'].value_counts()"
   ]
  },
  {
   "cell_type": "code",
   "execution_count": 39,
   "id": "2033660d",
   "metadata": {},
   "outputs": [],
   "source": [
    "pd.set_option('display.max_colwidth', 350)"
   ]
  },
  {
   "cell_type": "code",
   "execution_count": 41,
   "id": "4fbedbf4",
   "metadata": {
    "scrolled": true
   },
   "outputs": [
    {
     "data": {
      "text/plain": [
       "466                                            This is Tebow. He kindly requests that you put down the coffee and play with him. 13/10 such a good boy https://t.co/56uBP28eqw\n",
       "1712                                                                Here we have uncovered an entire battalion of holiday puppers. Average of 11.26/10 https://t.co/eNm2S6p9BD\n",
       "605                               RT @dog_rates: Not familiar with this breed. No tail (weird). Only 2 legs. Doesn't bark. Surprisingly quick. Shits eggs. 1/10 https://t.co/…\n",
       "1163                                                             This is Ivar. She is a badass Viking warrior. Will sack your village. 10/10 savage af https://t.co/Dz6MiVssVU\n",
       "1936                                                                           This is one esteemed pupper. Just graduated college. 10/10 what a champ https://t.co/nyReCVRiyd\n",
       "1233                                                                                                           This is Stubert. He just arrived. 10/10 https://t.co/HVGs5aAKAn\n",
       "608                                                          Here's a helicopter pupper. He takes off at random. H*ckin hard to control. 12/10 rare af https://t.co/GRWPgNKt2z\n",
       "1270                              Meet Karma. She's just a head. Lost body during the Second Punic War (unfortunate). Loves to travel 10/10 petable af https://t.co/c6af6nYEPo\n",
       "1981                                                               This is Chet. He's having a hard time. Really struggling. 7/10 hang in there pupper https://t.co/eb4ta0xtnd\n",
       "129              This is Shikha. She just watched you drop a skittle on the ground and still eat it. Could not be less impressed. 12/10 superior puppo https://t.co/XZlZKd73go\n",
       "464     Meet Strudel. He's rather h*ckin pupset that your clothes clash. 11/10 click the link to see how u can help Strudel\\n\\nhttps://t.co/3uxgLz8d0l https://t.co/O0ECL1StB2\n",
       "1471                                             These lil fellas are the best of friends. 12/10 for both. 1 like = 1 friend (vid by @CassieBrookee15) https://t.co/gzRghPC61H\n",
       "1969                                                   Take a moment and appreciate how these two dogs fell asleep. Simply magnificent. 10/10 for both https://t.co/juX48bWpng\n",
       "290                                                                                                                                                         @markhoppus 182/10\n",
       "442                                    This is Jazzy. She just found out that sandwich wasn't for her. Shocked and puppalled. 13/10 deep breaths Jazzy https://t.co/52cItP0vIO\n",
       "Name: text, dtype: object"
      ]
     },
     "execution_count": 41,
     "metadata": {},
     "output_type": "execute_result"
    }
   ],
   "source": [
    "twitter_archive['text'].sample(15)"
   ]
  },
  {
   "cell_type": "code",
   "execution_count": 45,
   "id": "a4720acb",
   "metadata": {},
   "outputs": [
    {
     "name": "stdout",
     "output_type": "stream",
     "text": [
      "<class 'pandas.core.frame.DataFrame'>\n",
      "RangeIndex: 2356 entries, 0 to 2355\n",
      "Data columns (total 17 columns):\n",
      " #   Column                      Non-Null Count  Dtype  \n",
      "---  ------                      --------------  -----  \n",
      " 0   tweet_id                    2356 non-null   int64  \n",
      " 1   in_reply_to_status_id       78 non-null     float64\n",
      " 2   in_reply_to_user_id         78 non-null     float64\n",
      " 3   timestamp                   2356 non-null   object \n",
      " 4   source                      2356 non-null   object \n",
      " 5   text                        2356 non-null   object \n",
      " 6   retweeted_status_id         181 non-null    float64\n",
      " 7   retweeted_status_user_id    181 non-null    float64\n",
      " 8   retweeted_status_timestamp  181 non-null    object \n",
      " 9   expanded_urls               2297 non-null   object \n",
      " 10  rating_numerator            2356 non-null   int64  \n",
      " 11  rating_denominator          2356 non-null   int64  \n",
      " 12  name                        2356 non-null   object \n",
      " 13  doggo                       2356 non-null   object \n",
      " 14  floofer                     2356 non-null   object \n",
      " 15  pupper                      2356 non-null   object \n",
      " 16  puppo                       2356 non-null   object \n",
      "dtypes: float64(4), int64(3), object(10)\n",
      "memory usage: 313.0+ KB\n"
     ]
    }
   ],
   "source": [
    "twitter_archive.info()"
   ]
  },
  {
   "cell_type": "code",
   "execution_count": 49,
   "id": "73011354",
   "metadata": {},
   "outputs": [
    {
     "data": {
      "text/plain": [
       "Series([], dtype: int64)"
      ]
     },
     "execution_count": 49,
     "metadata": {},
     "output_type": "execute_result"
    }
   ],
   "source": [
    "twitter_archive[['doggo', 'floofer', 'pupper', 'puppo']].value_counts()"
   ]
  },
  {
   "cell_type": "code",
   "execution_count": 47,
   "id": "8db2832c",
   "metadata": {},
   "outputs": [],
   "source": [
    "dog_stages =[ 'doggo', 'floofer', 'pupper', 'puppo']"
   ]
  },
  {
   "cell_type": "code",
   "execution_count": 48,
   "id": "98e17fd2",
   "metadata": {},
   "outputs": [],
   "source": [
    "twitter_archive[dog_stages] = twitter_archive[dog_stages].replace('None', np.nan)"
   ]
  },
  {
   "cell_type": "code",
   "execution_count": 50,
   "id": "77f37d01",
   "metadata": {},
   "outputs": [],
   "source": [
    "def join(x):\n",
    "    return ', '.join(x.dropna().astype(str)) \n",
    "\n",
    "twitter_archive['dog_stages'] = twitter_archive[dog_stages].apply(join, axis=1) [' ,pupper, , floofer']"
   ]
  },
  {
   "cell_type": "code",
   "execution_count": 51,
   "id": "27a1c623",
   "metadata": {},
   "outputs": [],
   "source": [
    "twitter_archive['dog_stages'] = twitter_archive['dog_stages'].replace('', np.nan)"
   ]
  },
  {
   "cell_type": "code",
   "execution_count": 52,
   "id": "379371de",
   "metadata": {},
   "outputs": [
    {
     "name": "stdout",
     "output_type": "stream",
     "text": [
      "<class 'pandas.core.frame.DataFrame'>\n",
      "RangeIndex: 2356 entries, 0 to 2355\n",
      "Data columns (total 18 columns):\n",
      " #   Column                      Non-Null Count  Dtype  \n",
      "---  ------                      --------------  -----  \n",
      " 0   tweet_id                    2356 non-null   int64  \n",
      " 1   in_reply_to_status_id       78 non-null     float64\n",
      " 2   in_reply_to_user_id         78 non-null     float64\n",
      " 3   timestamp                   2356 non-null   object \n",
      " 4   source                      2356 non-null   object \n",
      " 5   text                        2356 non-null   object \n",
      " 6   retweeted_status_id         181 non-null    float64\n",
      " 7   retweeted_status_user_id    181 non-null    float64\n",
      " 8   retweeted_status_timestamp  181 non-null    object \n",
      " 9   expanded_urls               2297 non-null   object \n",
      " 10  rating_numerator            2356 non-null   int64  \n",
      " 11  rating_denominator          2356 non-null   int64  \n",
      " 12  name                        2356 non-null   object \n",
      " 13  doggo                       97 non-null     object \n",
      " 14  floofer                     10 non-null     object \n",
      " 15  pupper                      257 non-null    object \n",
      " 16  puppo                       30 non-null     object \n",
      " 17  dog_stages                  380 non-null    object \n",
      "dtypes: float64(4), int64(3), object(11)\n",
      "memory usage: 331.4+ KB\n"
     ]
    }
   ],
   "source": [
    "twitter_archive.info()"
   ]
  },
  {
   "cell_type": "code",
   "execution_count": 53,
   "id": "7c3d53f0",
   "metadata": {},
   "outputs": [
    {
     "data": {
      "text/plain": [
       "pupper            245\n",
       "doggo              83\n",
       "puppo              29\n",
       "doggo, pupper      12\n",
       "floofer             9\n",
       "doggo, puppo        1\n",
       "doggo, floofer      1\n",
       "Name: dog_stages, dtype: int64"
      ]
     },
     "execution_count": 53,
     "metadata": {},
     "output_type": "execute_result"
    }
   ],
   "source": [
    "twitter_archive['dog_stages'].value_counts()"
   ]
  },
  {
   "cell_type": "code",
   "execution_count": 55,
   "id": "bd7c68f2",
   "metadata": {},
   "outputs": [
    {
     "name": "stdout",
     "output_type": "stream",
     "text": [
      "<class 'pandas.core.frame.DataFrame'>\n",
      "RangeIndex: 2354 entries, 0 to 2353\n",
      "Data columns (total 3 columns):\n",
      " #   Column          Non-Null Count  Dtype\n",
      "---  ------          --------------  -----\n",
      " 0   id              2354 non-null   int64\n",
      " 1   retweet_count   2354 non-null   int64\n",
      " 2   favorite_count  2354 non-null   int64\n",
      "dtypes: int64(3)\n",
      "memory usage: 55.3 KB\n"
     ]
    }
   ],
   "source": [
    "tweet_df.info()"
   ]
  },
  {
   "cell_type": "code",
   "execution_count": 57,
   "id": "d1ed6017",
   "metadata": {},
   "outputs": [
    {
     "name": "stdout",
     "output_type": "stream",
     "text": [
      "<class 'pandas.core.frame.DataFrame'>\n",
      "RangeIndex: 2075 entries, 0 to 2074\n",
      "Data columns (total 12 columns):\n",
      " #   Column    Non-Null Count  Dtype  \n",
      "---  ------    --------------  -----  \n",
      " 0   tweet_id  2075 non-null   int64  \n",
      " 1   jpg_url   2075 non-null   object \n",
      " 2   img_num   2075 non-null   int64  \n",
      " 3   p1        2075 non-null   object \n",
      " 4   p1_conf   2075 non-null   float64\n",
      " 5   p1_dog    2075 non-null   bool   \n",
      " 6   p2        2075 non-null   object \n",
      " 7   p2_conf   2075 non-null   float64\n",
      " 8   p2_dog    2075 non-null   bool   \n",
      " 9   p3        2075 non-null   object \n",
      " 10  p3_conf   2075 non-null   float64\n",
      " 11  p3_dog    2075 non-null   bool   \n",
      "dtypes: bool(3), float64(3), int64(2), object(4)\n",
      "memory usage: 152.1+ KB\n"
     ]
    }
   ],
   "source": [
    "image_df.info()"
   ]
  },
  {
   "cell_type": "code",
   "execution_count": 56,
   "id": "d7168d69",
   "metadata": {},
   "outputs": [
    {
     "data": {
      "text/plain": [
       "p1_dog  p2_dog  p3_dog\n",
       "True    True    True      1243\n",
       "False   False   False      324\n",
       "True    True    False      155\n",
       "False   True    True       101\n",
       "True    False   True        91\n",
       "False   False   True        64\n",
       "        True    False       54\n",
       "True    False   False       43\n",
       "dtype: int64"
      ]
     },
     "execution_count": 56,
     "metadata": {},
     "output_type": "execute_result"
    }
   ],
   "source": [
    "image_df[['p1_dog', 'p2_dog', 'p3_dog']].value_counts()"
   ]
  },
  {
   "cell_type": "code",
   "execution_count": 62,
   "id": "3cb78f5c",
   "metadata": {},
   "outputs": [],
   "source": [
    "criteria = [(image_df['p1_dog'] == True), (image_df['p2_dog'] == True), (image_df['p3_dog'] == True)]\n",
    "\n",
    "breed = [(image_df['p1']), (image_df['p2'] ), (image_df['p3'] )]\n",
    "\n",
    "conf_pred =  [(image_df['p1_conf']), (image_df['p2_conf'] ), (image_df['p3_conf'] )]\n",
    "\n",
    "image_df['breed'] = np.select(criteria, breed, default='none')\n",
    "\n",
    "image_df['confidence'] =  np.select(criteria, conf_pred, default=0)"
   ]
  },
  {
   "cell_type": "code",
   "execution_count": 63,
   "id": "f35c8c45",
   "metadata": {},
   "outputs": [
    {
     "name": "stdout",
     "output_type": "stream",
     "text": [
      "<class 'pandas.core.frame.DataFrame'>\n",
      "RangeIndex: 2075 entries, 0 to 2074\n",
      "Data columns (total 14 columns):\n",
      " #   Column      Non-Null Count  Dtype  \n",
      "---  ------      --------------  -----  \n",
      " 0   tweet_id    2075 non-null   int64  \n",
      " 1   jpg_url     2075 non-null   object \n",
      " 2   img_num     2075 non-null   int64  \n",
      " 3   p1          2075 non-null   object \n",
      " 4   p1_conf     2075 non-null   float64\n",
      " 5   p1_dog      2075 non-null   bool   \n",
      " 6   p2          2075 non-null   object \n",
      " 7   p2_conf     2075 non-null   float64\n",
      " 8   p2_dog      2075 non-null   bool   \n",
      " 9   p3          2075 non-null   object \n",
      " 10  p3_conf     2075 non-null   float64\n",
      " 11  p3_dog      2075 non-null   bool   \n",
      " 12  breed       2075 non-null   object \n",
      " 13  confidence  2075 non-null   float64\n",
      "dtypes: bool(3), float64(4), int64(2), object(5)\n",
      "memory usage: 184.5+ KB\n"
     ]
    }
   ],
   "source": [
    "image_df.info()"
   ]
  },
  {
   "cell_type": "code",
   "execution_count": 61,
   "id": "a9657ef2",
   "metadata": {
    "scrolled": true
   },
   "outputs": [
    {
     "data": {
      "text/plain": [
       "0.023353    2\n",
       "0.046403    2\n",
       "0.077008    2\n",
       "0.017492    2\n",
       "0.223263    2\n",
       "           ..\n",
       "0.037881    1\n",
       "0.085237    1\n",
       "0.055194    1\n",
       "0.153598    1\n",
       "0.076110    1\n",
       "Name: p3_conf, Length: 2006, dtype: int64"
      ]
     },
     "execution_count": 61,
     "metadata": {},
     "output_type": "execute_result"
    }
   ],
   "source": [
    "image_df['p3_conf'].value_counts()"
   ]
  },
  {
   "cell_type": "markdown",
   "id": "8dd96adf",
   "metadata": {},
   "source": [
    "### Define\n",
    "> jddsvdsjvsvhjhkvv"
   ]
  },
  {
   "cell_type": "markdown",
   "id": "c88adaa2",
   "metadata": {},
   "source": [
    "## Code"
   ]
  },
  {
   "cell_type": "code",
   "execution_count": null,
   "id": "d8209453",
   "metadata": {},
   "outputs": [],
   "source": [
    "outliers"
   ]
  },
  {
   "cell_type": "code",
   "execution_count": 3,
   "id": "c981a5a4",
   "metadata": {},
   "outputs": [
    {
     "ename": "SyntaxError",
     "evalue": "invalid syntax (<ipython-input-3-ff7dac9f293f>, line 4)",
     "output_type": "error",
     "traceback": [
      "\u001b[1;36m  File \u001b[1;32m\"<ipython-input-3-ff7dac9f293f>\"\u001b[1;36m, line \u001b[1;32m4\u001b[0m\n\u001b[1;33m    archive_clean['rating_numerator'] = archive_clean.rating_numerator.apply(lambda x : x*10)\u001b[0m\n\u001b[1;37m    ^\u001b[0m\n\u001b[1;31mSyntaxError\u001b[0m\u001b[1;31m:\u001b[0m invalid syntax\n"
     ]
    }
   ],
   "source": [
    "#Function to fix the ratings\n",
    "def fix(numerator):\n",
    "    archive_clean['rating_numerator'] = numerator.div(archive_clean.rating_denominator\n",
    "    archive_clean['rating_numerator'] = archive_clean.rating_numerator.apply(lambda x : x*10)"
   ]
  },
  {
   "cell_type": "code",
   "execution_count": null,
   "id": "e4268fae",
   "metadata": {},
   "outputs": [],
   "source": []
  }
 ],
 "metadata": {
  "kernelspec": {
   "display_name": "Python 3",
   "language": "python",
   "name": "python3"
  },
  "language_info": {
   "codemirror_mode": {
    "name": "ipython",
    "version": 3
   },
   "file_extension": ".py",
   "mimetype": "text/x-python",
   "name": "python",
   "nbconvert_exporter": "python",
   "pygments_lexer": "ipython3",
   "version": "3.8.8"
  }
 },
 "nbformat": 4,
 "nbformat_minor": 5
}
